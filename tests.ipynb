{
 "cells": [
  {
   "cell_type": "code",
   "execution_count": 30,
   "metadata": {},
   "outputs": [
    {
     "name": "stdout",
     "output_type": "stream",
     "text": [
      "[[ 0  0]\n",
      " [-1  2]\n",
      " [-2  4]\n",
      " [-3  6]]\n"
     ]
    },
    {
     "data": {
      "text/plain": [
       "[(-0.0, 0.0), (-1.0, 1.0), (-1.0, 2.0), (-2.0, 2.0), (-2.0, 3.0), (-3.0, 4.0)]"
      ]
     },
     "execution_count": 30,
     "metadata": {},
     "output_type": "execute_result"
    }
   ],
   "source": [
    "import numpy as np\n",
    "import numba\n",
    "\n",
    "DATA = (np.array([0, 0], dtype=np.float32), np.array([-3, 4], dtype=np.float32))\n",
    "\n",
    "\n",
    "@numba.njit(parallel=True, fastmath=True, boundscheck=False, inline='always', nogil=True,)\n",
    "def points_between_points(a: np.ndarray, b: np.ndarray):\n",
    "    dist: float = np.linalg.norm(b-a)  # distance\n",
    "    rise = (b[1]-a[1])/dist\n",
    "    run:float = (b[0]-a[0])/dist\n",
    "    return [(np.round(run*i), np.round(rise*i)) for i in range(np.ceil(dist)+1)]\n",
    "\n",
    "def get_points_between_2_points(\n",
    "    point_1: tuple[int, int], point_2: tuple[int, int]\n",
    ") -> np.ndarray:\n",
    "    \"\"\"Return an array of coordinates of points that lie on the line between\n",
    "    two given points.\n",
    "\n",
    "    Args:\n",
    "    -----\n",
    "    point_1: A tuple of two integers that represent the (x, y) coordinates of\n",
    "    the first point.\n",
    "\n",
    "    point_2: A tuple of two integers that represent the (x, y) coordinates of\n",
    "    the second point.\n",
    "\n",
    "    Returns:\n",
    "    -----\n",
    "    np.ndarray: An array of coordinates of the points that lie on the line\n",
    "    between the two given points.(inclusive of point1 and point2)\n",
    "\n",
    "    Note:\n",
    "    -----\n",
    "    The function calculates the coordinates of the points that lie on the line\n",
    "    between the two input points, and returns an array of these coordinates.\n",
    "    The function first determines the slope and intercept of the line\n",
    "    connecting the two input points. If the line is vertical, the function\n",
    "    returns an array of points with the same x coordinate and a range of y\n",
    "    coordinates. Otherwise, the function calculates the coordinates of the\n",
    "    points on the line using the slope and intercept, and returns an array of\n",
    "    these coordinates. The returned array is sorted by distance from the first\n",
    "    input point.\n",
    "    \"\"\"\n",
    "\n",
    "    x1, y1 = np.array(point_1).astype(int)\n",
    "    x2, y2 = np.array(point_2).astype(int)\n",
    "\n",
    "    # Calculate the slope of the line\n",
    "    if x1 == x2:\n",
    "        # Handle the special case where the line is vertical\n",
    "        x_coords: np.ndarray = np.full(abs(y2 - y1) + 1, x1)\n",
    "        y_coords: np.ndarray = np.arange(min(y1, y2), max(y1, y2) + 1)\n",
    "    else:\n",
    "        slope: int = (y2 - y1) // (x2 - x1)\n",
    "        intercept: int = y1 - slope * x1\n",
    "\n",
    "        # Calculate the coordinates of the points on the line\n",
    "        x_coords: np.ndarray = np.arange(min(x1, x2), max(x1, x2) + 1)\n",
    "        y_coords: np.ndarray = np.around(slope * x_coords + intercept)\n",
    "\n",
    "    # Combine the x and y coordinates into a single array\n",
    "    points: np.ndarray = np.column_stack((x_coords, y_coords))\n",
    "\n",
    "    # Remove duplicate points\n",
    "    points: np.ndarray = np.unique(points, axis=0)\n",
    "\n",
    "    # Sort the points by distance from the first input point\n",
    "    distances: np.ndarray = np.linalg.norm(points - point_1, axis=1)\n",
    "    sorted_indices: np.ndarray = np.argsort(distances)\n",
    "    points: np.ndarray = points[sorted_indices]\n",
    "\n",
    "    return points.astype(int)\n",
    "\n",
    "print(get_points_between_2_points(*DATA))\n",
    "\n",
    "points_between_points(*DATA)  # ensure compilation"
   ]
  },
  {
   "cell_type": "code",
   "execution_count": 31,
   "metadata": {},
   "outputs": [
    {
     "name": "stdout",
     "output_type": "stream",
     "text": [
      "21.3 µs ± 2.82 µs per loop (mean ± std. dev. of 7 runs, 10,000 loops each)\n"
     ]
    }
   ],
   "source": [
    "%%timeit \n",
    "\n",
    "points_between_points(*DATA)"
   ]
  },
  {
   "cell_type": "code",
   "execution_count": 32,
   "metadata": {},
   "outputs": [
    {
     "name": "stdout",
     "output_type": "stream",
     "text": [
      "239 µs ± 30.6 µs per loop (mean ± std. dev. of 7 runs, 1,000 loops each)\n"
     ]
    }
   ],
   "source": [
    "%%timeit\n",
    "\n",
    "get_points_between_2_points(*DATA)"
   ]
  }
 ],
 "metadata": {
  "kernelspec": {
   "display_name": "Python 3",
   "language": "python",
   "name": "python3"
  },
  "language_info": {
   "codemirror_mode": {
    "name": "ipython",
    "version": 3
   },
   "file_extension": ".py",
   "mimetype": "text/x-python",
   "name": "python",
   "nbconvert_exporter": "python",
   "pygments_lexer": "ipython3",
   "version": "3.11.2"
  },
  "orig_nbformat": 4
 },
 "nbformat": 4,
 "nbformat_minor": 2
}
